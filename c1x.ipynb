{
 "cells": [
  {
   "cell_type": "code",
   "execution_count": 1,
   "metadata": {},
   "outputs": [],
   "source": [
    "#Assignment 1\n"
   ]
  },
  {
   "cell_type": "code",
   "execution_count": 2,
   "metadata": {},
   "outputs": [],
   "source": [
    "def get_pair_frequency( text ):\n",
    "    \"\"\"Find pair frequency of 2grams with no space in in a sentence\n",
    "    Args:\n",
    "        text (str): input sentence\n",
    "    Returns:\n",
    "        frequency_map (dict): dict of frequencies, with key pair,value occurence count\n",
    "    \"\"\"        \n",
    "    frequency_map = {}\n",
    "    #iterate over every char\n",
    "    for i in range(0,len(text)-1):\n",
    "        #get  pairs of 2 letter \n",
    "        sub = text[i:i+2]\n",
    "        #if does not include any space,update frequency map\n",
    "        if len(sub.strip()) == 2:        \n",
    "            frequency_map[sub] = frequency_map.get(sub,0) + 1\n",
    "    return frequency_map   "
   ]
  },
  {
   "cell_type": "code",
   "execution_count": 3,
   "metadata": {},
   "outputs": [],
   "source": [
    "#with  fewer lines\n",
    "#def get_pair_frequency2( text ):\n",
    "#    frequency_map = {}\n",
    "#    #iterate over every 2char pair,if does not include space, update frequency map\n",
    "#    [ frequency_map.update({text[i:i+2]: frequency_map.get(text[i:i+2],0)+1 } ) for i in range(0,len(text)-1) if len( text[i:i+2].strip() ) == 2 ]        \n",
    "#    return frequency_map   "
   ]
  },
  {
   "cell_type": "code",
   "execution_count": 4,
   "metadata": {},
   "outputs": [],
   "source": [
    "expected = {'th': 2, 'hi': 2, 'is': 2, 'go': 1, 'oo': 1, 'od': 1, 'in': 1, 'ng': 1}\n",
    "output = get_pair_frequency(\"this is a good thing\")\n",
    "assert output == expected"
   ]
  },
  {
   "cell_type": "code",
   "execution_count": 5,
   "metadata": {},
   "outputs": [],
   "source": [
    "#dict  comparision with ==  may be problematic in some python versions\n",
    "assert get_pair_frequency(\"this is a\") == {'th': 1, 'hi': 1, 'is': 2}\n",
    "assert get_pair_frequency(\"this\") == {'th': 1, 'hi': 1, 'is': 1}\n",
    "assert get_pair_frequency(\"coooooool\") == {'oo': 6, 'co': 1, 'ol': 1}"
   ]
  },
  {
   "cell_type": "code",
   "execution_count": 6,
   "metadata": {},
   "outputs": [],
   "source": [
    "#Assignment 2"
   ]
  },
  {
   "cell_type": "code",
   "execution_count": 7,
   "metadata": {},
   "outputs": [],
   "source": [
    "def fill_blanks(arr):    \n",
    "    \"\"\"Find possible minimum number with possible combinations of plus,minus operation\n",
    "    Args:\n",
    "        arr (list): list of numbers\n",
    "    Returns:\n",
    "        min_distance (int): minimum number obtained by operations\n",
    "        generated   (list): all generated numbers being returned for debugging\n",
    "    \"\"\"        \n",
    "    generated = set([ arr[0] ])\n",
    "    #find all possible numbers we can calculate\n",
    "    for i in range(1,len(arr)):\n",
    "        subres = set([])\n",
    "        for item in generated:\n",
    "            subres.add( item + arr[i] )\n",
    "            subres.add( item - arr[i] )\n",
    "        generated = subres\n",
    "\n",
    "    min_distance = float('inf')\n",
    "    #iterate over all max number, update current_min if value less than current_min\n",
    "    #also if a value equals current min, make distance,absolute of value\n",
    "    #if there is more than 1 value result is absolute value\n",
    "    for x in generated :\n",
    "        if abs(x) == abs(min_distance):\n",
    "            min_distance = abs(x)\n",
    "        if abs(x) < abs(min_distance):    \n",
    "            min_distance = x\n",
    "                \n",
    "    \n",
    "    return min_distance,generated"
   ]
  },
  {
   "cell_type": "code",
   "execution_count": 8,
   "metadata": {},
   "outputs": [
    {
     "name": "stdout",
     "output_type": "stream",
     "text": [
      "{-5, 19, -1, 15}\n",
      "{1, 13, -1, 15}\n",
      "{0, 2, 4, 6, 10, -8, -4, -2}\n"
     ]
    }
   ],
   "source": [
    "result, combs = fill_blanks(  [7,10,2] )\n",
    "print( combs)\n",
    "assert result == -1\n",
    "result,combs = fill_blanks(  [7,7,1] )\n",
    "print( combs)\n",
    "assert result == 1\n",
    "result,combs = fill_blanks(  [1,2,3,4] )\n",
    "print( combs)\n",
    "assert result == 0"
   ]
  },
  {
   "cell_type": "code",
   "execution_count": 9,
   "metadata": {},
   "outputs": [],
   "source": [
    "#Test your cases as above"
   ]
  },
  {
   "cell_type": "code",
   "execution_count": 10,
   "metadata": {},
   "outputs": [
    {
     "name": "stdout",
     "output_type": "stream",
     "text": [
      "{-5, 19, -1, 15}\n"
     ]
    }
   ],
   "source": [
    "result, combs = fill_blanks(  [7,10,2] )\n",
    "print( combs)\n",
    "assert result == -1"
   ]
  },
  {
   "cell_type": "code",
   "execution_count": null,
   "metadata": {},
   "outputs": [],
   "source": []
  },
  {
   "cell_type": "code",
   "execution_count": null,
   "metadata": {},
   "outputs": [],
   "source": []
  },
  {
   "cell_type": "code",
   "execution_count": null,
   "metadata": {},
   "outputs": [],
   "source": []
  }
 ],
 "metadata": {
  "kernelspec": {
   "display_name": "Python 3",
   "language": "python",
   "name": "python3"
  },
  "language_info": {
   "codemirror_mode": {
    "name": "ipython",
    "version": 3
   },
   "file_extension": ".py",
   "mimetype": "text/x-python",
   "name": "python",
   "nbconvert_exporter": "python",
   "pygments_lexer": "ipython3",
   "version": "3.7.1"
  }
 },
 "nbformat": 4,
 "nbformat_minor": 2
}
